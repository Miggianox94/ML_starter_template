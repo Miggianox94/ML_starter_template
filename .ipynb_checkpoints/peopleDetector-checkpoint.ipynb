{
 "cells": [
  {
   "cell_type": "markdown",
   "metadata": {},
   "source": [
    "# People Detector"
   ]
  },
  {
   "cell_type": "code",
   "execution_count": 1,
   "metadata": {},
   "outputs": [],
   "source": [
    "import pandas as pd\n",
    "import numpy as np\n",
    "import matplotlib.pyplot as plt\n",
    "from sklearn.ensemble import RandomForestRegressor\n",
    "from sklearn.metrics import mean_absolute_error \n",
    "from sklearn.model_selection import train_test_split\n",
    "from sklearn import preprocessing\n",
    "import datetime\n",
    "from sklearn import linear_model\n",
    "from sklearn.metrics import mean_squared_error\n",
    "import math\n",
    "from datetime import datetime"
   ]
  },
  {
   "cell_type": "markdown",
   "metadata": {},
   "source": [
    "#### data,current,power,timestamp,data,id,co2,data,weather,external_humidity,internal_humidity,external_temperature,internal_temperature,light_value,sunrise,sunset,timestamp,tvoc"
   ]
  },
  {
   "cell_type": "code",
   "execution_count": 2,
   "metadata": {},
   "outputs": [
    {
     "data": {
      "text/html": [
       "<div>\n",
       "<style scoped>\n",
       "    .dataframe tbody tr th:only-of-type {\n",
       "        vertical-align: middle;\n",
       "    }\n",
       "\n",
       "    .dataframe tbody tr th {\n",
       "        vertical-align: top;\n",
       "    }\n",
       "\n",
       "    .dataframe thead th {\n",
       "        text-align: right;\n",
       "    }\n",
       "</style>\n",
       "<table border=\"1\" class=\"dataframe\">\n",
       "  <thead>\n",
       "    <tr style=\"text-align: right;\">\n",
       "      <th></th>\n",
       "      <th>current</th>\n",
       "      <th>power</th>\n",
       "      <th>timestamp</th>\n",
       "      <th>light_value</th>\n",
       "      <th>timestamp_2</th>\n",
       "    </tr>\n",
       "  </thead>\n",
       "  <tbody>\n",
       "    <tr>\n",
       "      <th>count</th>\n",
       "      <td>1.607580e+06</td>\n",
       "      <td>1.607580e+06</td>\n",
       "      <td>1.607580e+06</td>\n",
       "      <td>9.105680e+05</td>\n",
       "      <td>9.105680e+05</td>\n",
       "    </tr>\n",
       "    <tr>\n",
       "      <th>mean</th>\n",
       "      <td>6.087887e-01</td>\n",
       "      <td>1.400205e+02</td>\n",
       "      <td>1.572631e+12</td>\n",
       "      <td>4.728018e+04</td>\n",
       "      <td>1.573390e+09</td>\n",
       "    </tr>\n",
       "    <tr>\n",
       "      <th>std</th>\n",
       "      <td>1.324407e+00</td>\n",
       "      <td>3.046123e+02</td>\n",
       "      <td>2.138546e+09</td>\n",
       "      <td>6.074935e+04</td>\n",
       "      <td>2.056905e+06</td>\n",
       "    </tr>\n",
       "    <tr>\n",
       "      <th>min</th>\n",
       "      <td>1.100000e-01</td>\n",
       "      <td>2.628000e+01</td>\n",
       "      <td>1.568931e+12</td>\n",
       "      <td>3.000000e+00</td>\n",
       "      <td>1.568931e+09</td>\n",
       "    </tr>\n",
       "    <tr>\n",
       "      <th>25%</th>\n",
       "      <td>2.300000e-01</td>\n",
       "      <td>5.244000e+01</td>\n",
       "      <td>1.570778e+12</td>\n",
       "      <td>4.240000e+02</td>\n",
       "      <td>1.571453e+09</td>\n",
       "    </tr>\n",
       "    <tr>\n",
       "      <th>50%</th>\n",
       "      <td>3.400000e-01</td>\n",
       "      <td>7.913000e+01</td>\n",
       "      <td>1.572627e+12</td>\n",
       "      <td>1.465000e+03</td>\n",
       "      <td>1.573851e+09</td>\n",
       "    </tr>\n",
       "    <tr>\n",
       "      <th>75%</th>\n",
       "      <td>5.500000e-01</td>\n",
       "      <td>1.254400e+02</td>\n",
       "      <td>1.574486e+12</td>\n",
       "      <td>1.162250e+05</td>\n",
       "      <td>1.575103e+09</td>\n",
       "    </tr>\n",
       "    <tr>\n",
       "      <th>max</th>\n",
       "      <td>2.385000e+01</td>\n",
       "      <td>5.485740e+03</td>\n",
       "      <td>1.576339e+12</td>\n",
       "      <td>2.183203e+06</td>\n",
       "      <td>1.576251e+09</td>\n",
       "    </tr>\n",
       "  </tbody>\n",
       "</table>\n",
       "</div>"
      ],
      "text/plain": [
       "            current         power     timestamp   light_value   timestamp_2\n",
       "count  1.607580e+06  1.607580e+06  1.607580e+06  9.105680e+05  9.105680e+05\n",
       "mean   6.087887e-01  1.400205e+02  1.572631e+12  4.728018e+04  1.573390e+09\n",
       "std    1.324407e+00  3.046123e+02  2.138546e+09  6.074935e+04  2.056905e+06\n",
       "min    1.100000e-01  2.628000e+01  1.568931e+12  3.000000e+00  1.568931e+09\n",
       "25%    2.300000e-01  5.244000e+01  1.570778e+12  4.240000e+02  1.571453e+09\n",
       "50%    3.400000e-01  7.913000e+01  1.572627e+12  1.465000e+03  1.573851e+09\n",
       "75%    5.500000e-01  1.254400e+02  1.574486e+12  1.162250e+05  1.575103e+09\n",
       "max    2.385000e+01  5.485740e+03  1.576339e+12  2.183203e+06  1.576251e+09"
      ]
     },
     "execution_count": 2,
     "metadata": {},
     "output_type": "execute_result"
    }
   ],
   "source": [
    "dataDf = pd.read_csv('part-00000',index_col=False, skipinitialspace=True,infer_datetime_format=True,names=['data','current','power','timestamp','data_2','id','co2','data_3','weather','external_humidity','internal_humidity','external_temperature','internal_temperature','light_value','sunrise','sunset','timestamp_2','tvoc'])\n",
    "dataDf1 = pd.read_csv('part-00001',index_col=False, skipinitialspace=True,infer_datetime_format=True,names=['data','current','power','timestamp','data_2','id','co2','data_3','weather','external_humidity','internal_humidity','external_temperature','internal_temperature','light_value','sunrise','sunset','timestamp_2','tvoc'])\n",
    "dataDf2 = pd.read_csv('part-00002',index_col=False, skipinitialspace=True,infer_datetime_format=True,names=['data','current','power','timestamp','data_2','id','co2','data_3','weather','external_humidity','internal_humidity','external_temperature','internal_temperature','light_value','sunrise','sunset','timestamp_2','tvoc'])\n",
    "dataDf3 = pd.read_csv('part-00003',index_col=False, skipinitialspace=True,infer_datetime_format=True,names=['data','current','power','timestamp','data_2','id','co2','data_3','weather','external_humidity','internal_humidity','external_temperature','internal_temperature','light_value','sunrise','sunset','timestamp_2','tvoc'])\n",
    "\n",
    "dataDf = dataDf.append(dataDf1, ignore_index = True)\n",
    "dataDf = dataDf.append(dataDf2, ignore_index = True)\n",
    "dataDf = dataDf.append(dataDf3, ignore_index = True)\n",
    "\n",
    "dataDf.describe()"
   ]
  },
  {
   "cell_type": "code",
   "execution_count": 3,
   "metadata": {},
   "outputs": [
    {
     "data": {
      "text/html": [
       "<div>\n",
       "<style scoped>\n",
       "    .dataframe tbody tr th:only-of-type {\n",
       "        vertical-align: middle;\n",
       "    }\n",
       "\n",
       "    .dataframe tbody tr th {\n",
       "        vertical-align: top;\n",
       "    }\n",
       "\n",
       "    .dataframe thead th {\n",
       "        text-align: right;\n",
       "    }\n",
       "</style>\n",
       "<table border=\"1\" class=\"dataframe\">\n",
       "  <thead>\n",
       "    <tr style=\"text-align: right;\">\n",
       "      <th></th>\n",
       "      <th>data</th>\n",
       "      <th>current</th>\n",
       "      <th>power</th>\n",
       "      <th>co2</th>\n",
       "      <th>weather</th>\n",
       "      <th>external_humidity</th>\n",
       "      <th>internal_humidity</th>\n",
       "      <th>external_temperature</th>\n",
       "      <th>internal_temperature</th>\n",
       "      <th>light_value</th>\n",
       "      <th>sunrise</th>\n",
       "      <th>sunset</th>\n",
       "      <th>tvoc</th>\n",
       "    </tr>\n",
       "  </thead>\n",
       "  <tbody>\n",
       "    <tr>\n",
       "      <th>0</th>\n",
       "      <td>2019-11-07 17:47:00</td>\n",
       "      <td>0.20</td>\n",
       "      <td>44.93</td>\n",
       "      <td>404.8</td>\n",
       "      <td>Cloudy</td>\n",
       "      <td>95</td>\n",
       "      <td>67.0</td>\n",
       "      <td>10.0</td>\n",
       "      <td>19.0</td>\n",
       "      <td>118990.0</td>\n",
       "      <td>7:17 am</td>\n",
       "      <td>5:09 pm</td>\n",
       "      <td>7.0</td>\n",
       "    </tr>\n",
       "    <tr>\n",
       "      <th>1</th>\n",
       "      <td>2019-11-07 17:47:00</td>\n",
       "      <td>0.17</td>\n",
       "      <td>40.15</td>\n",
       "      <td>404.8</td>\n",
       "      <td>Cloudy</td>\n",
       "      <td>95</td>\n",
       "      <td>67.0</td>\n",
       "      <td>10.0</td>\n",
       "      <td>19.0</td>\n",
       "      <td>118990.0</td>\n",
       "      <td>7:17 am</td>\n",
       "      <td>5:09 pm</td>\n",
       "      <td>7.0</td>\n",
       "    </tr>\n",
       "    <tr>\n",
       "      <th>2</th>\n",
       "      <td>2019-11-07 17:47:00</td>\n",
       "      <td>0.19</td>\n",
       "      <td>42.66</td>\n",
       "      <td>404.8</td>\n",
       "      <td>Cloudy</td>\n",
       "      <td>95</td>\n",
       "      <td>67.0</td>\n",
       "      <td>10.0</td>\n",
       "      <td>19.0</td>\n",
       "      <td>118990.0</td>\n",
       "      <td>7:17 am</td>\n",
       "      <td>5:09 pm</td>\n",
       "      <td>7.0</td>\n",
       "    </tr>\n",
       "    <tr>\n",
       "      <th>3</th>\n",
       "      <td>2019-11-07 17:47:00</td>\n",
       "      <td>0.21</td>\n",
       "      <td>47.29</td>\n",
       "      <td>404.8</td>\n",
       "      <td>Cloudy</td>\n",
       "      <td>95</td>\n",
       "      <td>67.0</td>\n",
       "      <td>10.0</td>\n",
       "      <td>19.0</td>\n",
       "      <td>118990.0</td>\n",
       "      <td>7:17 am</td>\n",
       "      <td>5:09 pm</td>\n",
       "      <td>7.0</td>\n",
       "    </tr>\n",
       "    <tr>\n",
       "      <th>4</th>\n",
       "      <td>2019-11-07 17:47:00</td>\n",
       "      <td>0.17</td>\n",
       "      <td>40.02</td>\n",
       "      <td>404.8</td>\n",
       "      <td>Cloudy</td>\n",
       "      <td>95</td>\n",
       "      <td>67.0</td>\n",
       "      <td>10.0</td>\n",
       "      <td>19.0</td>\n",
       "      <td>118990.0</td>\n",
       "      <td>7:17 am</td>\n",
       "      <td>5:09 pm</td>\n",
       "      <td>7.0</td>\n",
       "    </tr>\n",
       "  </tbody>\n",
       "</table>\n",
       "</div>"
      ],
      "text/plain": [
       "                 data  current  power    co2 weather  external_humidity  \\\n",
       "0 2019-11-07 17:47:00     0.20  44.93  404.8  Cloudy                 95   \n",
       "1 2019-11-07 17:47:00     0.17  40.15  404.8  Cloudy                 95   \n",
       "2 2019-11-07 17:47:00     0.19  42.66  404.8  Cloudy                 95   \n",
       "3 2019-11-07 17:47:00     0.21  47.29  404.8  Cloudy                 95   \n",
       "4 2019-11-07 17:47:00     0.17  40.02  404.8  Cloudy                 95   \n",
       "\n",
       "   internal_humidity  external_temperature  internal_temperature  light_value  \\\n",
       "0               67.0                  10.0                  19.0     118990.0   \n",
       "1               67.0                  10.0                  19.0     118990.0   \n",
       "2               67.0                  10.0                  19.0     118990.0   \n",
       "3               67.0                  10.0                  19.0     118990.0   \n",
       "4               67.0                  10.0                  19.0     118990.0   \n",
       "\n",
       "   sunrise   sunset  tvoc  \n",
       "0  7:17 am  5:09 pm   7.0  \n",
       "1  7:17 am  5:09 pm   7.0  \n",
       "2  7:17 am  5:09 pm   7.0  \n",
       "3  7:17 am  5:09 pm   7.0  \n",
       "4  7:17 am  5:09 pm   7.0  "
      ]
     },
     "execution_count": 3,
     "metadata": {},
     "output_type": "execute_result"
    }
   ],
   "source": [
    "features = ['data','current','power','co2','weather','external_humidity','internal_humidity','external_temperature','internal_temperature','light_value','sunrise','sunset','tvoc']\n",
    "dataDfProjection = dataDf[features].copy()\n",
    "dataDfProjection.head()\n",
    "\n",
    "#per ora metto tutte\n",
    "requiredFeatures = ['data','current','power','co2','weather','external_humidity','internal_humidity','external_temperature','internal_temperature','light_value','sunrise','sunset','tvoc']\n",
    "dataDfProjection = dataDfProjection.dropna(subset=requiredFeatures)\n",
    "\n",
    "#Set correct type columns\n",
    "dataDfProjection['external_humidity'] = dataDfProjection['external_humidity'].str.rstrip('%')\n",
    "dataDfProjection['internal_humidity'] = dataDfProjection['internal_humidity'].str.rstrip('%')\n",
    "dataDfProjection['external_temperature'] = dataDfProjection['external_temperature'].str.rstrip('*C')\n",
    "dataDfProjection['internal_temperature'] = dataDfProjection['internal_temperature'].str.rstrip('*C')\n",
    "\n",
    "numeric_features = ['co2','external_humidity','internal_humidity','external_temperature','internal_temperature','tvoc']\n",
    "dataDfProjection[numeric_features] = dataDfProjection[numeric_features].apply(pd.to_numeric, errors='coerce')\n",
    "dataDfProjection = dataDfProjection.dropna(subset=requiredFeatures)\n",
    "\n",
    "dataDfProjection['data'] = pd.to_datetime(dataDfProjection['data'],format='%Y/%m/%d %H:%M') \n",
    "\n",
    "dataDfProjection.head()"
   ]
  },
  {
   "cell_type": "markdown",
   "metadata": {},
   "source": [
    "#### Adding labels"
   ]
  },
  {
   "cell_type": "code",
   "execution_count": 5,
   "metadata": {},
   "outputs": [
    {
     "name": "stdout",
     "output_type": "stream",
     "text": [
      "99530\n",
      "43170\n"
     ]
    },
    {
     "data": {
      "text/html": [
       "<div>\n",
       "<style scoped>\n",
       "    .dataframe tbody tr th:only-of-type {\n",
       "        vertical-align: middle;\n",
       "    }\n",
       "\n",
       "    .dataframe tbody tr th {\n",
       "        vertical-align: top;\n",
       "    }\n",
       "\n",
       "    .dataframe thead th {\n",
       "        text-align: right;\n",
       "    }\n",
       "</style>\n",
       "<table border=\"1\" class=\"dataframe\">\n",
       "  <thead>\n",
       "    <tr style=\"text-align: right;\">\n",
       "      <th></th>\n",
       "      <th>current</th>\n",
       "      <th>power</th>\n",
       "      <th>co2</th>\n",
       "      <th>external_humidity</th>\n",
       "      <th>internal_humidity</th>\n",
       "      <th>external_temperature</th>\n",
       "      <th>internal_temperature</th>\n",
       "      <th>light_value</th>\n",
       "      <th>tvoc</th>\n",
       "      <th>peopleInHouse</th>\n",
       "    </tr>\n",
       "  </thead>\n",
       "  <tbody>\n",
       "    <tr>\n",
       "      <th>count</th>\n",
       "      <td>142700.000000</td>\n",
       "      <td>142700.000000</td>\n",
       "      <td>142700.000000</td>\n",
       "      <td>142700.000000</td>\n",
       "      <td>142700.000000</td>\n",
       "      <td>142700.000000</td>\n",
       "      <td>142700.000000</td>\n",
       "      <td>142700.000000</td>\n",
       "      <td>142700.000000</td>\n",
       "      <td>142700.000000</td>\n",
       "    </tr>\n",
       "    <tr>\n",
       "      <th>mean</th>\n",
       "      <td>0.542381</td>\n",
       "      <td>124.742617</td>\n",
       "      <td>402.768631</td>\n",
       "      <td>91.699937</td>\n",
       "      <td>63.130827</td>\n",
       "      <td>7.205648</td>\n",
       "      <td>19.526475</td>\n",
       "      <td>51611.686496</td>\n",
       "      <td>0.743696</td>\n",
       "      <td>0.697477</td>\n",
       "    </tr>\n",
       "    <tr>\n",
       "      <th>std</th>\n",
       "      <td>1.142452</td>\n",
       "      <td>262.763367</td>\n",
       "      <td>5.381970</td>\n",
       "      <td>10.458938</td>\n",
       "      <td>3.609252</td>\n",
       "      <td>4.157404</td>\n",
       "      <td>0.896531</td>\n",
       "      <td>58885.065196</td>\n",
       "      <td>2.629355</td>\n",
       "      <td>0.459352</td>\n",
       "    </tr>\n",
       "    <tr>\n",
       "      <th>min</th>\n",
       "      <td>0.130000</td>\n",
       "      <td>29.640000</td>\n",
       "      <td>400.000000</td>\n",
       "      <td>49.000000</td>\n",
       "      <td>0.000000</td>\n",
       "      <td>-2.000000</td>\n",
       "      <td>0.000000</td>\n",
       "      <td>81.000000</td>\n",
       "      <td>0.000000</td>\n",
       "      <td>0.000000</td>\n",
       "    </tr>\n",
       "    <tr>\n",
       "      <th>25%</th>\n",
       "      <td>0.230000</td>\n",
       "      <td>52.680000</td>\n",
       "      <td>400.800000</td>\n",
       "      <td>90.000000</td>\n",
       "      <td>62.000000</td>\n",
       "      <td>5.000000</td>\n",
       "      <td>19.000000</td>\n",
       "      <td>1152.000000</td>\n",
       "      <td>0.000000</td>\n",
       "      <td>0.000000</td>\n",
       "    </tr>\n",
       "    <tr>\n",
       "      <th>50%</th>\n",
       "      <td>0.320000</td>\n",
       "      <td>72.620000</td>\n",
       "      <td>401.500000</td>\n",
       "      <td>95.000000</td>\n",
       "      <td>63.000000</td>\n",
       "      <td>7.000000</td>\n",
       "      <td>19.000000</td>\n",
       "      <td>2631.000000</td>\n",
       "      <td>0.000000</td>\n",
       "      <td>1.000000</td>\n",
       "    </tr>\n",
       "    <tr>\n",
       "      <th>75%</th>\n",
       "      <td>0.500000</td>\n",
       "      <td>114.150000</td>\n",
       "      <td>403.000000</td>\n",
       "      <td>100.000000</td>\n",
       "      <td>64.000000</td>\n",
       "      <td>8.000000</td>\n",
       "      <td>20.000000</td>\n",
       "      <td>116801.000000</td>\n",
       "      <td>1.000000</td>\n",
       "      <td>1.000000</td>\n",
       "    </tr>\n",
       "    <tr>\n",
       "      <th>max</th>\n",
       "      <td>17.060000</td>\n",
       "      <td>3923.500000</td>\n",
       "      <td>556.200000</td>\n",
       "      <td>100.000000</td>\n",
       "      <td>162.000000</td>\n",
       "      <td>22.000000</td>\n",
       "      <td>22.000000</td>\n",
       "      <td>318542.000000</td>\n",
       "      <td>210.000000</td>\n",
       "      <td>1.000000</td>\n",
       "    </tr>\n",
       "  </tbody>\n",
       "</table>\n",
       "</div>"
      ],
      "text/plain": [
       "             current          power            co2  external_humidity  \\\n",
       "count  142700.000000  142700.000000  142700.000000      142700.000000   \n",
       "mean        0.542381     124.742617     402.768631          91.699937   \n",
       "std         1.142452     262.763367       5.381970          10.458938   \n",
       "min         0.130000      29.640000     400.000000          49.000000   \n",
       "25%         0.230000      52.680000     400.800000          90.000000   \n",
       "50%         0.320000      72.620000     401.500000          95.000000   \n",
       "75%         0.500000     114.150000     403.000000         100.000000   \n",
       "max        17.060000    3923.500000     556.200000         100.000000   \n",
       "\n",
       "       internal_humidity  external_temperature  internal_temperature  \\\n",
       "count      142700.000000         142700.000000         142700.000000   \n",
       "mean           63.130827              7.205648             19.526475   \n",
       "std             3.609252              4.157404              0.896531   \n",
       "min             0.000000             -2.000000              0.000000   \n",
       "25%            62.000000              5.000000             19.000000   \n",
       "50%            63.000000              7.000000             19.000000   \n",
       "75%            64.000000              8.000000             20.000000   \n",
       "max           162.000000             22.000000             22.000000   \n",
       "\n",
       "         light_value           tvoc  peopleInHouse  \n",
       "count  142700.000000  142700.000000  142700.000000  \n",
       "mean    51611.686496       0.743696       0.697477  \n",
       "std     58885.065196       2.629355       0.459352  \n",
       "min        81.000000       0.000000       0.000000  \n",
       "25%      1152.000000       0.000000       0.000000  \n",
       "50%      2631.000000       0.000000       1.000000  \n",
       "75%    116801.000000       1.000000       1.000000  \n",
       "max    318542.000000     210.000000       1.000000  "
      ]
     },
     "execution_count": 5,
     "metadata": {},
     "output_type": "execute_result"
    }
   ],
   "source": [
    "def labelRow(row):\n",
    "    weekno = row['data'].weekday()\n",
    "\n",
    "    if weekno>=5:\n",
    "        return -1 #it is a weekend\n",
    "\n",
    "    h = row['data'].hour\n",
    "    if (h >= 19 and h <= 21) or (h >= 7 and h <= 9):\n",
    "        return 1\n",
    "    elif h >= 3 and h <= 5:\n",
    "        return 0\n",
    "    else:\n",
    "        return -1\n",
    "\n",
    "dataDfProjection['peopleInHouse'] = dataDfProjection.apply(labelRow, axis=1)\n",
    "dataDfProjection.drop(dataDfProjection[dataDfProjection.peopleInHouse == -1].index, inplace=True)\n",
    "print(len(dataDfProjection[(dataDfProjection['peopleInHouse']==1)]))\n",
    "print(len(dataDfProjection[(dataDfProjection['peopleInHouse']==0)]))\n",
    "\n",
    "\n",
    "dataDfProjection.describe()"
   ]
  },
  {
   "cell_type": "code",
   "execution_count": 6,
   "metadata": {},
   "outputs": [],
   "source": [
    "input_features = ['power','co2','external_temperature','internal_temperature','tvoc']\n",
    "X_train, X_test, y_train, y_test = train_test_split(dataDfProjection[input_features], dataDfProjection['peopleInHouse'], test_size=0.20, random_state=42)"
   ]
  },
  {
   "cell_type": "markdown",
   "metadata": {},
   "source": [
    "#### Learn an ensamble model"
   ]
  },
  {
   "cell_type": "code",
   "execution_count": 7,
   "metadata": {},
   "outputs": [
    {
     "name": "stdout",
     "output_type": "stream",
     "text": [
      "Score: 0.7607568325157673\n",
      "Features importance: [0.18  0.125 0.555 0.07  0.07 ]\n"
     ]
    },
    {
     "data": {
      "text/plain": [
       "array([[ 4004,  4569],\n",
       "       [ 2259, 17708]], dtype=int64)"
      ]
     },
     "execution_count": 7,
     "metadata": {},
     "output_type": "execute_result"
    }
   ],
   "source": [
    "from sklearn.ensemble import AdaBoostClassifier\n",
    "from sklearn.metrics import confusion_matrix\n",
    "\n",
    "clf = AdaBoostClassifier(n_estimators=200, random_state=0)\n",
    "clf.fit(X_train, y_train)\n",
    "print(\"Score: \"+str(clf.score(X_test, y_test)))\n",
    "\n",
    "print(\"Features importance: \"+str(clf.feature_importances_))\n",
    "\n",
    "confusion_matrix(y_test, clf.predict(X_test))"
   ]
  },
  {
   "cell_type": "code",
   "execution_count": 9,
   "metadata": {},
   "outputs": [
    {
     "name": "stderr",
     "output_type": "stream",
     "text": [
      "C:\\Users\\s.coluccia\\AppData\\Local\\Continuum\\anaconda3\\envs\\aaut_env\\lib\\site-packages\\sklearn\\svm\\base.py:193: FutureWarning: The default value of gamma will change from 'auto' to 'scale' in version 0.22 to account better for unscaled features. Set gamma explicitly to 'auto' or 'scale' to avoid this warning.\n",
      "  \"avoid this warning.\", FutureWarning)\n",
      "C:\\Users\\s.coluccia\\AppData\\Local\\Continuum\\anaconda3\\envs\\aaut_env\\lib\\site-packages\\sklearn\\svm\\base.py:193: FutureWarning: The default value of gamma will change from 'auto' to 'scale' in version 0.22 to account better for unscaled features. Set gamma explicitly to 'auto' or 'scale' to avoid this warning.\n",
      "  \"avoid this warning.\", FutureWarning)\n",
      "C:\\Users\\s.coluccia\\AppData\\Local\\Continuum\\anaconda3\\envs\\aaut_env\\lib\\site-packages\\sklearn\\svm\\base.py:193: FutureWarning: The default value of gamma will change from 'auto' to 'scale' in version 0.22 to account better for unscaled features. Set gamma explicitly to 'auto' or 'scale' to avoid this warning.\n",
      "  \"avoid this warning.\", FutureWarning)\n",
      "C:\\Users\\s.coluccia\\AppData\\Local\\Continuum\\anaconda3\\envs\\aaut_env\\lib\\site-packages\\sklearn\\svm\\base.py:193: FutureWarning: The default value of gamma will change from 'auto' to 'scale' in version 0.22 to account better for unscaled features. Set gamma explicitly to 'auto' or 'scale' to avoid this warning.\n",
      "  \"avoid this warning.\", FutureWarning)\n",
      "C:\\Users\\s.coluccia\\AppData\\Local\\Continuum\\anaconda3\\envs\\aaut_env\\lib\\site-packages\\sklearn\\svm\\base.py:193: FutureWarning: The default value of gamma will change from 'auto' to 'scale' in version 0.22 to account better for unscaled features. Set gamma explicitly to 'auto' or 'scale' to avoid this warning.\n",
      "  \"avoid this warning.\", FutureWarning)\n"
     ]
    },
    {
     "name": "stdout",
     "output_type": "stream",
     "text": [
      "Score: 0.8470217238962859\n"
     ]
    },
    {
     "data": {
      "text/plain": [
       "array([[ 5903,  2670],\n",
       "       [ 1696, 18271]], dtype=int64)"
      ]
     },
     "execution_count": 9,
     "metadata": {},
     "output_type": "execute_result"
    }
   ],
   "source": [
    "from sklearn.ensemble import BaggingClassifier\n",
    "from sklearn.svm import SVC\n",
    "\n",
    "clf = BaggingClassifier(base_estimator=SVC(),n_estimators=5, random_state=0).fit(X_train, y_train)\n",
    "print(\"Score: \"+str(clf.score(X_test, y_test)))\n",
    "\n",
    "confusion_matrix(y_test, clf.predict(X_test))"
   ]
  },
  {
   "cell_type": "markdown",
   "metadata": {},
   "source": [
    "#### Plot the data"
   ]
  },
  {
   "cell_type": "code",
   "execution_count": 19,
   "metadata": {},
   "outputs": [
    {
     "data": {
      "text/plain": [
       "<matplotlib.collections.PathCollection at 0x22fc37178c8>"
      ]
     },
     "execution_count": 19,
     "metadata": {},
     "output_type": "execute_result"
    },
    {
     "data": {
      "image/png": "[encoded data removed]",
      "text/plain": [
       "<Figure size 720x576 with 1 Axes>"
      ]
     },
     "metadata": {
      "needs_background": "light"
     },
     "output_type": "display_data"
    }
   ],
   "source": [
    "plt.figure(figsize=[10,8])\n",
    "plt.scatter(dataDfProjection.tvoc, dataDfProjection.internal_temperature, s=50, c=dataDfProjection.peopleInHouse)"
   ]
  },
  {
   "cell_type": "markdown",
   "metadata": {},
   "source": [
    "#### Trying with different features"
   ]
  },
  {
   "cell_type": "code",
   "execution_count": 9,
   "metadata": {},
   "outputs": [
    {
     "name": "stdout",
     "output_type": "stream",
     "text": [
      "Score: 0.9562718990889979\n",
      "Features importance: [0.12  0.08  0.09  0.585 0.1   0.025]\n"
     ]
    },
    {
     "data": {
      "text/plain": [
       "array([[ 8257,   316],\n",
       "       [  932, 19035]], dtype=int64)"
      ]
     },
     "execution_count": 9,
     "metadata": {},
     "output_type": "execute_result"
    }
   ],
   "source": [
    "input_features = ['power','co2','internal_humidity','light_value','internal_temperature','tvoc']\n",
    "X_train, X_test, y_train, y_test = train_test_split(dataDfProjection[input_features], dataDfProjection['peopleInHouse'], test_size=0.20, random_state=42)\n",
    "\n",
    "clf = AdaBoostClassifier(n_estimators=200, random_state=0)\n",
    "clf.fit(X_train, y_train)\n",
    "print(\"Score: \"+str(clf.score(X_test, y_test)))\n",
    "\n",
    "print(\"Features importance: \"+str(clf.feature_importances_))\n",
    "\n",
    "confusion_matrix(y_test, clf.predict(X_test))"
   ]
  },
  {
   "cell_type": "code",
   "execution_count": 11,
   "metadata": {},
   "outputs": [
    {
     "name": "stderr",
     "output_type": "stream",
     "text": [
      "C:\\Users\\s.coluccia\\AppData\\Local\\Continuum\\anaconda3\\envs\\aaut_env\\lib\\site-packages\\sklearn\\svm\\base.py:193: FutureWarning: The default value of gamma will change from 'auto' to 'scale' in version 0.22 to account better for unscaled features. Set gamma explicitly to 'auto' or 'scale' to avoid this warning.\n",
      "  \"avoid this warning.\", FutureWarning)\n",
      "C:\\Users\\s.coluccia\\AppData\\Local\\Continuum\\anaconda3\\envs\\aaut_env\\lib\\site-packages\\sklearn\\svm\\base.py:193: FutureWarning: The default value of gamma will change from 'auto' to 'scale' in version 0.22 to account better for unscaled features. Set gamma explicitly to 'auto' or 'scale' to avoid this warning.\n",
      "  \"avoid this warning.\", FutureWarning)\n",
      "C:\\Users\\s.coluccia\\AppData\\Local\\Continuum\\anaconda3\\envs\\aaut_env\\lib\\site-packages\\sklearn\\svm\\base.py:193: FutureWarning: The default value of gamma will change from 'auto' to 'scale' in version 0.22 to account better for unscaled features. Set gamma explicitly to 'auto' or 'scale' to avoid this warning.\n",
      "  \"avoid this warning.\", FutureWarning)\n",
      "C:\\Users\\s.coluccia\\AppData\\Local\\Continuum\\anaconda3\\envs\\aaut_env\\lib\\site-packages\\sklearn\\svm\\base.py:193: FutureWarning: The default value of gamma will change from 'auto' to 'scale' in version 0.22 to account better for unscaled features. Set gamma explicitly to 'auto' or 'scale' to avoid this warning.\n",
      "  \"avoid this warning.\", FutureWarning)\n",
      "C:\\Users\\s.coluccia\\AppData\\Local\\Continuum\\anaconda3\\envs\\aaut_env\\lib\\site-packages\\sklearn\\svm\\base.py:193: FutureWarning: The default value of gamma will change from 'auto' to 'scale' in version 0.22 to account better for unscaled features. Set gamma explicitly to 'auto' or 'scale' to avoid this warning.\n",
      "  \"avoid this warning.\", FutureWarning)\n"
     ]
    },
    {
     "name": "stdout",
     "output_type": "stream",
     "text": [
      "Score: 0.9813244569025928\n"
     ]
    },
    {
     "data": {
      "text/plain": [
       "array([[ 8042,   531],\n",
       "       [    2, 19965]], dtype=int64)"
      ]
     },
     "execution_count": 11,
     "metadata": {},
     "output_type": "execute_result"
    }
   ],
   "source": [
    "from sklearn.ensemble import BaggingClassifier\n",
    "from sklearn.svm import SVC\n",
    "\n",
    "clf = BaggingClassifier(base_estimator=SVC(),n_estimators=5, random_state=0).fit(X_train, y_train)\n",
    "print(\"Score: \"+str(clf.score(X_test, y_test)))\n",
    "\n",
    "confusion_matrix(y_test, clf.predict(X_test))"
   ]
  },
  {
   "cell_type": "code",
   "execution_count": 12,
   "metadata": {},
   "outputs": [
    {
     "data": {
      "text/plain": [
       "['peopleDetector_bag.joblib']"
      ]
     },
     "execution_count": 12,
     "metadata": {},
     "output_type": "execute_result"
    }
   ],
   "source": [
    "from joblib import dump, load\n",
    "dump(clf, 'peopleDetector_bag.joblib')"
   ]
  },
  {
   "cell_type": "code",
   "execution_count": 16,
   "metadata": {},
   "outputs": [
    {
     "data": {
      "text/html": [
       "<div>\n",
       "<style scoped>\n",
       "    .dataframe tbody tr th:only-of-type {\n",
       "        vertical-align: middle;\n",
       "    }\n",
       "\n",
       "    .dataframe tbody tr th {\n",
       "        vertical-align: top;\n",
       "    }\n",
       "\n",
       "    .dataframe thead th {\n",
       "        text-align: right;\n",
       "    }\n",
       "</style>\n",
       "<table border=\"1\" class=\"dataframe\">\n",
       "  <thead>\n",
       "    <tr style=\"text-align: right;\">\n",
       "      <th></th>\n",
       "      <th>power</th>\n",
       "      <th>co2</th>\n",
       "      <th>internal_humidity</th>\n",
       "      <th>light_value</th>\n",
       "      <th>internal_temperature</th>\n",
       "      <th>tvoc</th>\n",
       "    </tr>\n",
       "  </thead>\n",
       "  <tbody>\n",
       "    <tr>\n",
       "      <th>815731</th>\n",
       "      <td>76.31</td>\n",
       "      <td>405.3</td>\n",
       "      <td>63.0</td>\n",
       "      <td>503.0</td>\n",
       "      <td>21.0</td>\n",
       "      <td>1.0</td>\n",
       "    </tr>\n",
       "    <tr>\n",
       "      <th>966159</th>\n",
       "      <td>40.28</td>\n",
       "      <td>401.8</td>\n",
       "      <td>63.0</td>\n",
       "      <td>372.0</td>\n",
       "      <td>19.0</td>\n",
       "      <td>1.0</td>\n",
       "    </tr>\n",
       "    <tr>\n",
       "      <th>658842</th>\n",
       "      <td>146.03</td>\n",
       "      <td>407.1</td>\n",
       "      <td>66.0</td>\n",
       "      <td>1625.0</td>\n",
       "      <td>20.0</td>\n",
       "      <td>8.0</td>\n",
       "    </tr>\n",
       "    <tr>\n",
       "      <th>615372</th>\n",
       "      <td>103.83</td>\n",
       "      <td>401.7</td>\n",
       "      <td>62.0</td>\n",
       "      <td>112131.0</td>\n",
       "      <td>19.0</td>\n",
       "      <td>1.0</td>\n",
       "    </tr>\n",
       "    <tr>\n",
       "      <th>168377</th>\n",
       "      <td>54.17</td>\n",
       "      <td>400.8</td>\n",
       "      <td>65.0</td>\n",
       "      <td>484.0</td>\n",
       "      <td>19.0</td>\n",
       "      <td>1.0</td>\n",
       "    </tr>\n",
       "  </tbody>\n",
       "</table>\n",
       "</div>"
      ],
      "text/plain": [
       "         power    co2  internal_humidity  light_value  internal_temperature  \\\n",
       "815731   76.31  405.3               63.0        503.0                  21.0   \n",
       "966159   40.28  401.8               63.0        372.0                  19.0   \n",
       "658842  146.03  407.1               66.0       1625.0                  20.0   \n",
       "615372  103.83  401.7               62.0     112131.0                  19.0   \n",
       "168377   54.17  400.8               65.0        484.0                  19.0   \n",
       "\n",
       "        tvoc  \n",
       "815731   1.0  \n",
       "966159   1.0  \n",
       "658842   8.0  \n",
       "615372   1.0  \n",
       "168377   1.0  "
      ]
     },
     "execution_count": 16,
     "metadata": {},
     "output_type": "execute_result"
    }
   ],
   "source": [
    "X_test.head()"
   ]
  },
  {
   "cell_type": "code",
   "execution_count": null,
   "metadata": {},
   "outputs": [],
   "source": []
  }
 ],
 "metadata": {
  "kernelspec": {
   "display_name": "Python 3",
   "language": "python",
   "name": "python3"
  },
  "language_info": {
   "codemirror_mode": {
    "name": "ipython",
    "version": 3
   },
   "file_extension": ".py",
   "mimetype": "text/x-python",
   "name": "python",
   "nbconvert_exporter": "python",
   "pygments_lexer": "ipython3",
   "version": "3.8.1"
  }
 },
 "nbformat": 4,
 "nbformat_minor": 2
}
